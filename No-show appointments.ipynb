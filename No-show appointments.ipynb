{
 "cells": [
  {
   "cell_type": "markdown",
   "metadata": {},
   "source": [
    "\n",
    "\n",
    "# Project: Investigate a Dataset (No Show Appointments)\n",
    "\n",
    "## Table of Contents\n",
    "<ul>\n",
    "<li><a href=\"#intro\">Introduction</a></li>\n",
    "<li><a href=\"#wrangling\">Data Wrangling</a></li>\n",
    "<li><a href=\"#eda\">Exploratory Data Analysis</a></li>\n",
    "<li><a href=\"#conclusions\">Conclusions</a></li>\n",
    "</ul>"
   ]
  },
  {
   "cell_type": "markdown",
   "metadata": {},
   "source": [
    "<a id='intro'></a>\n",
    "## Introduction\n",
    "\n",
    "> In my Data Analysis I will explore the 'No-show appointments' data set. The data in the file contains records for people no shown for their appoitment.Patient information such as preexisting medical conditions and economic and social backgrounds has been given in the data set. \n",
    "> The goal for this analysis is to find:\n",
    ">1. People from which age group tends not to show up for their medical appointment and if there is any difference between male and female?\n",
    "2. Do people who participate in the Bolsa Família programe are more willing to show up for the appointment?\n",
    "3. Are people with preexisting medical conditions are more willing to missed their appointment?\n"
   ]
  },
  {
   "cell_type": "code",
   "execution_count": 1,
   "metadata": {},
   "outputs": [],
   "source": [
    "#  import packeges\n",
    "\n",
    "import pandas as pd\n",
    "import numpy as np\n",
    "import matplotlib.pyplot as plt\n",
    "%matplotlib inline\n",
    "import seaborn as sns\n",
    "from pandas.tseries.offsets import Day\n",
    "\n"
   ]
  },
  {
   "cell_type": "markdown",
   "metadata": {},
   "source": [
    "<a id='wrangling'></a>\n",
    "## Data Wrangling\n",
    "\n",
    "\n",
    "### General Properties"
   ]
  },
  {
   "cell_type": "code",
   "execution_count": 2,
   "metadata": {},
   "outputs": [
    {
     "data": {
      "text/html": [
       "<div>\n",
       "<style scoped>\n",
       "    .dataframe tbody tr th:only-of-type {\n",
       "        vertical-align: middle;\n",
       "    }\n",
       "\n",
       "    .dataframe tbody tr th {\n",
       "        vertical-align: top;\n",
       "    }\n",
       "\n",
       "    .dataframe thead th {\n",
       "        text-align: right;\n",
       "    }\n",
       "</style>\n",
       "<table border=\"1\" class=\"dataframe\">\n",
       "  <thead>\n",
       "    <tr style=\"text-align: right;\">\n",
       "      <th></th>\n",
       "      <th>PatientId</th>\n",
       "      <th>AppointmentID</th>\n",
       "      <th>Gender</th>\n",
       "      <th>ScheduledDay</th>\n",
       "      <th>AppointmentDay</th>\n",
       "      <th>Age</th>\n",
       "      <th>Neighbourhood</th>\n",
       "      <th>Scholarship</th>\n",
       "      <th>Hipertension</th>\n",
       "      <th>Diabetes</th>\n",
       "      <th>Alcoholism</th>\n",
       "      <th>Handcap</th>\n",
       "      <th>SMS_received</th>\n",
       "      <th>No-show</th>\n",
       "    </tr>\n",
       "  </thead>\n",
       "  <tbody>\n",
       "    <tr>\n",
       "      <th>0</th>\n",
       "      <td>2.987250e+13</td>\n",
       "      <td>5642903</td>\n",
       "      <td>F</td>\n",
       "      <td>2016-04-29T18:38:08Z</td>\n",
       "      <td>2016-04-29T00:00:00Z</td>\n",
       "      <td>62</td>\n",
       "      <td>JARDIM DA PENHA</td>\n",
       "      <td>0</td>\n",
       "      <td>1</td>\n",
       "      <td>0</td>\n",
       "      <td>0</td>\n",
       "      <td>0</td>\n",
       "      <td>0</td>\n",
       "      <td>No</td>\n",
       "    </tr>\n",
       "    <tr>\n",
       "      <th>1</th>\n",
       "      <td>5.589978e+14</td>\n",
       "      <td>5642503</td>\n",
       "      <td>M</td>\n",
       "      <td>2016-04-29T16:08:27Z</td>\n",
       "      <td>2016-04-29T00:00:00Z</td>\n",
       "      <td>56</td>\n",
       "      <td>JARDIM DA PENHA</td>\n",
       "      <td>0</td>\n",
       "      <td>0</td>\n",
       "      <td>0</td>\n",
       "      <td>0</td>\n",
       "      <td>0</td>\n",
       "      <td>0</td>\n",
       "      <td>No</td>\n",
       "    </tr>\n",
       "    <tr>\n",
       "      <th>2</th>\n",
       "      <td>4.262962e+12</td>\n",
       "      <td>5642549</td>\n",
       "      <td>F</td>\n",
       "      <td>2016-04-29T16:19:04Z</td>\n",
       "      <td>2016-04-29T00:00:00Z</td>\n",
       "      <td>62</td>\n",
       "      <td>MATA DA PRAIA</td>\n",
       "      <td>0</td>\n",
       "      <td>0</td>\n",
       "      <td>0</td>\n",
       "      <td>0</td>\n",
       "      <td>0</td>\n",
       "      <td>0</td>\n",
       "      <td>No</td>\n",
       "    </tr>\n",
       "    <tr>\n",
       "      <th>3</th>\n",
       "      <td>8.679512e+11</td>\n",
       "      <td>5642828</td>\n",
       "      <td>F</td>\n",
       "      <td>2016-04-29T17:29:31Z</td>\n",
       "      <td>2016-04-29T00:00:00Z</td>\n",
       "      <td>8</td>\n",
       "      <td>PONTAL DE CAMBURI</td>\n",
       "      <td>0</td>\n",
       "      <td>0</td>\n",
       "      <td>0</td>\n",
       "      <td>0</td>\n",
       "      <td>0</td>\n",
       "      <td>0</td>\n",
       "      <td>No</td>\n",
       "    </tr>\n",
       "    <tr>\n",
       "      <th>4</th>\n",
       "      <td>8.841186e+12</td>\n",
       "      <td>5642494</td>\n",
       "      <td>F</td>\n",
       "      <td>2016-04-29T16:07:23Z</td>\n",
       "      <td>2016-04-29T00:00:00Z</td>\n",
       "      <td>56</td>\n",
       "      <td>JARDIM DA PENHA</td>\n",
       "      <td>0</td>\n",
       "      <td>1</td>\n",
       "      <td>1</td>\n",
       "      <td>0</td>\n",
       "      <td>0</td>\n",
       "      <td>0</td>\n",
       "      <td>No</td>\n",
       "    </tr>\n",
       "  </tbody>\n",
       "</table>\n",
       "</div>"
      ],
      "text/plain": [
       "      PatientId  AppointmentID Gender          ScheduledDay  \\\n",
       "0  2.987250e+13        5642903      F  2016-04-29T18:38:08Z   \n",
       "1  5.589978e+14        5642503      M  2016-04-29T16:08:27Z   \n",
       "2  4.262962e+12        5642549      F  2016-04-29T16:19:04Z   \n",
       "3  8.679512e+11        5642828      F  2016-04-29T17:29:31Z   \n",
       "4  8.841186e+12        5642494      F  2016-04-29T16:07:23Z   \n",
       "\n",
       "         AppointmentDay  Age      Neighbourhood  Scholarship  Hipertension  \\\n",
       "0  2016-04-29T00:00:00Z   62    JARDIM DA PENHA            0             1   \n",
       "1  2016-04-29T00:00:00Z   56    JARDIM DA PENHA            0             0   \n",
       "2  2016-04-29T00:00:00Z   62      MATA DA PRAIA            0             0   \n",
       "3  2016-04-29T00:00:00Z    8  PONTAL DE CAMBURI            0             0   \n",
       "4  2016-04-29T00:00:00Z   56    JARDIM DA PENHA            0             1   \n",
       "\n",
       "   Diabetes  Alcoholism  Handcap  SMS_received No-show  \n",
       "0         0           0        0             0      No  \n",
       "1         0           0        0             0      No  \n",
       "2         0           0        0             0      No  \n",
       "3         0           0        0             0      No  \n",
       "4         1           0        0             0      No  "
      ]
     },
     "execution_count": 2,
     "metadata": {},
     "output_type": "execute_result"
    }
   ],
   "source": [
    "# read the csv file\n",
    "df_no_show = pd.read_csv(r'~/anaconda3/udacity_solution/project 2/KaggleV2-May-2016.csv', sep=',')\n",
    "\n",
    "# show the first rows from the data set\n",
    "df_no_show.head()"
   ]
  },
  {
   "cell_type": "code",
   "execution_count": 3,
   "metadata": {},
   "outputs": [
    {
     "data": {
      "text/plain": [
       "(110527, 14)"
      ]
     },
     "execution_count": 3,
     "metadata": {},
     "output_type": "execute_result"
    }
   ],
   "source": [
    "#show the shape of the data set - number of rows and columns\n",
    "df_no_show.shape"
   ]
  },
  {
   "cell_type": "code",
   "execution_count": 4,
   "metadata": {},
   "outputs": [
    {
     "data": {
      "text/plain": [
       "PatientId         float64\n",
       "AppointmentID       int64\n",
       "Gender             object\n",
       "ScheduledDay       object\n",
       "AppointmentDay     object\n",
       "Age                 int64\n",
       "Neighbourhood      object\n",
       "Scholarship         int64\n",
       "Hipertension        int64\n",
       "Diabetes            int64\n",
       "Alcoholism          int64\n",
       "Handcap             int64\n",
       "SMS_received        int64\n",
       "No-show            object\n",
       "dtype: object"
      ]
     },
     "execution_count": 4,
     "metadata": {},
     "output_type": "execute_result"
    }
   ],
   "source": [
    "df_no_show.dtypes"
   ]
  },
  {
   "cell_type": "markdown",
   "metadata": {},
   "source": [
    "\n",
    "\n",
    "### Data Cleaning (Replace this with more specific notes!)"
   ]
  },
  {
   "cell_type": "markdown",
   "metadata": {},
   "source": [
    "#### 1. Replace the column names to lower case and more readable names"
   ]
  },
  {
   "cell_type": "code",
   "execution_count": 5,
   "metadata": {},
   "outputs": [],
   "source": [
    "# rename the existing DataFrame columns\n",
    "df_no_show.rename(columns={'PatientId': 'patient_id', 'AppointmentID': 'appointment_id', \n",
    "                        'ScheduledDay': 'scheduled_day','AppointmentDay': 'appointment_day',\n",
    "                       'No-show': 'No_show', 'Hipertension':'hypertension',\n",
    "                          'Handcap': 'handicap'},inplace=True)"
   ]
  },
  {
   "cell_type": "code",
   "execution_count": 6,
   "metadata": {},
   "outputs": [
    {
     "name": "stdout",
     "output_type": "stream",
     "text": [
      "<class 'pandas.core.frame.DataFrame'>\n",
      "RangeIndex: 110527 entries, 0 to 110526\n",
      "Data columns (total 14 columns):\n",
      " #   Column           Non-Null Count   Dtype  \n",
      "---  ------           --------------   -----  \n",
      " 0   patient_id       110527 non-null  float64\n",
      " 1   appointment_id   110527 non-null  int64  \n",
      " 2   gender           110527 non-null  object \n",
      " 3   scheduled_day    110527 non-null  object \n",
      " 4   appointment_day  110527 non-null  object \n",
      " 5   age              110527 non-null  int64  \n",
      " 6   neighbourhood    110527 non-null  object \n",
      " 7   scholarship      110527 non-null  int64  \n",
      " 8   hypertension     110527 non-null  int64  \n",
      " 9   diabetes         110527 non-null  int64  \n",
      " 10  alcoholism       110527 non-null  int64  \n",
      " 11  handicap         110527 non-null  int64  \n",
      " 12  sms_received     110527 non-null  int64  \n",
      " 13  no_show          110527 non-null  object \n",
      "dtypes: float64(1), int64(8), object(5)\n",
      "memory usage: 11.8+ MB\n"
     ]
    }
   ],
   "source": [
    "# lowercase labels for the dataset columns\n",
    "df_no_show.rename(columns=lambda x: x.lower(), inplace=True)\n",
    "\n",
    "# confirm changes\n",
    "df_no_show.info()"
   ]
  },
  {
   "cell_type": "markdown",
   "metadata": {},
   "source": [
    "#### 2. Change the data type of the columns"
   ]
  },
  {
   "cell_type": "code",
   "execution_count": 7,
   "metadata": {},
   "outputs": [],
   "source": [
    "#change the datatpe of patient_id to int\n",
    "df_no_show['patient_id'] = df_no_show['patient_id'].apply(np.int64)"
   ]
  },
  {
   "cell_type": "code",
   "execution_count": 8,
   "metadata": {},
   "outputs": [],
   "source": [
    "#change the scheduled_day and appointment_day to date\n",
    "df_no_show['scheduled_day'] = pd.to_datetime(df_no_show['scheduled_day'], format= \"%Y-%m-%d %H:%M:%S\")\n",
    "df_no_show['appointment_day'] = pd.to_datetime(df_no_show['appointment_day'], format= \"%Y-%m-%d %H:%M:%S\")"
   ]
  },
  {
   "cell_type": "code",
   "execution_count": 9,
   "metadata": {},
   "outputs": [
    {
     "data": {
      "text/html": [
       "<div>\n",
       "<style scoped>\n",
       "    .dataframe tbody tr th:only-of-type {\n",
       "        vertical-align: middle;\n",
       "    }\n",
       "\n",
       "    .dataframe tbody tr th {\n",
       "        vertical-align: top;\n",
       "    }\n",
       "\n",
       "    .dataframe thead th {\n",
       "        text-align: right;\n",
       "    }\n",
       "</style>\n",
       "<table border=\"1\" class=\"dataframe\">\n",
       "  <thead>\n",
       "    <tr style=\"text-align: right;\">\n",
       "      <th></th>\n",
       "      <th>patient_id</th>\n",
       "      <th>appointment_id</th>\n",
       "      <th>gender</th>\n",
       "      <th>scheduled_day</th>\n",
       "      <th>appointment_day</th>\n",
       "      <th>age</th>\n",
       "      <th>neighbourhood</th>\n",
       "      <th>scholarship</th>\n",
       "      <th>hypertension</th>\n",
       "      <th>diabetes</th>\n",
       "      <th>alcoholism</th>\n",
       "      <th>handicap</th>\n",
       "      <th>sms_received</th>\n",
       "      <th>no_show</th>\n",
       "    </tr>\n",
       "  </thead>\n",
       "  <tbody>\n",
       "    <tr>\n",
       "      <th>0</th>\n",
       "      <td>29872499824296</td>\n",
       "      <td>5642903</td>\n",
       "      <td>F</td>\n",
       "      <td>2016-04-29 18:38:08+00:00</td>\n",
       "      <td>2016-04-29 00:00:00+00:00</td>\n",
       "      <td>62</td>\n",
       "      <td>JARDIM DA PENHA</td>\n",
       "      <td>False</td>\n",
       "      <td>True</td>\n",
       "      <td>False</td>\n",
       "      <td>False</td>\n",
       "      <td>False</td>\n",
       "      <td>False</td>\n",
       "      <td>False</td>\n",
       "    </tr>\n",
       "    <tr>\n",
       "      <th>1</th>\n",
       "      <td>558997776694438</td>\n",
       "      <td>5642503</td>\n",
       "      <td>M</td>\n",
       "      <td>2016-04-29 16:08:27+00:00</td>\n",
       "      <td>2016-04-29 00:00:00+00:00</td>\n",
       "      <td>56</td>\n",
       "      <td>JARDIM DA PENHA</td>\n",
       "      <td>False</td>\n",
       "      <td>False</td>\n",
       "      <td>False</td>\n",
       "      <td>False</td>\n",
       "      <td>False</td>\n",
       "      <td>False</td>\n",
       "      <td>False</td>\n",
       "    </tr>\n",
       "    <tr>\n",
       "      <th>2</th>\n",
       "      <td>4262962299951</td>\n",
       "      <td>5642549</td>\n",
       "      <td>F</td>\n",
       "      <td>2016-04-29 16:19:04+00:00</td>\n",
       "      <td>2016-04-29 00:00:00+00:00</td>\n",
       "      <td>62</td>\n",
       "      <td>MATA DA PRAIA</td>\n",
       "      <td>False</td>\n",
       "      <td>False</td>\n",
       "      <td>False</td>\n",
       "      <td>False</td>\n",
       "      <td>False</td>\n",
       "      <td>False</td>\n",
       "      <td>False</td>\n",
       "    </tr>\n",
       "    <tr>\n",
       "      <th>3</th>\n",
       "      <td>867951213174</td>\n",
       "      <td>5642828</td>\n",
       "      <td>F</td>\n",
       "      <td>2016-04-29 17:29:31+00:00</td>\n",
       "      <td>2016-04-29 00:00:00+00:00</td>\n",
       "      <td>8</td>\n",
       "      <td>PONTAL DE CAMBURI</td>\n",
       "      <td>False</td>\n",
       "      <td>False</td>\n",
       "      <td>False</td>\n",
       "      <td>False</td>\n",
       "      <td>False</td>\n",
       "      <td>False</td>\n",
       "      <td>False</td>\n",
       "    </tr>\n",
       "    <tr>\n",
       "      <th>4</th>\n",
       "      <td>8841186448183</td>\n",
       "      <td>5642494</td>\n",
       "      <td>F</td>\n",
       "      <td>2016-04-29 16:07:23+00:00</td>\n",
       "      <td>2016-04-29 00:00:00+00:00</td>\n",
       "      <td>56</td>\n",
       "      <td>JARDIM DA PENHA</td>\n",
       "      <td>False</td>\n",
       "      <td>True</td>\n",
       "      <td>True</td>\n",
       "      <td>False</td>\n",
       "      <td>False</td>\n",
       "      <td>False</td>\n",
       "      <td>False</td>\n",
       "    </tr>\n",
       "  </tbody>\n",
       "</table>\n",
       "</div>"
      ],
      "text/plain": [
       "        patient_id  appointment_id gender             scheduled_day  \\\n",
       "0   29872499824296         5642903      F 2016-04-29 18:38:08+00:00   \n",
       "1  558997776694438         5642503      M 2016-04-29 16:08:27+00:00   \n",
       "2    4262962299951         5642549      F 2016-04-29 16:19:04+00:00   \n",
       "3     867951213174         5642828      F 2016-04-29 17:29:31+00:00   \n",
       "4    8841186448183         5642494      F 2016-04-29 16:07:23+00:00   \n",
       "\n",
       "            appointment_day  age      neighbourhood  scholarship  \\\n",
       "0 2016-04-29 00:00:00+00:00   62    JARDIM DA PENHA        False   \n",
       "1 2016-04-29 00:00:00+00:00   56    JARDIM DA PENHA        False   \n",
       "2 2016-04-29 00:00:00+00:00   62      MATA DA PRAIA        False   \n",
       "3 2016-04-29 00:00:00+00:00    8  PONTAL DE CAMBURI        False   \n",
       "4 2016-04-29 00:00:00+00:00   56    JARDIM DA PENHA        False   \n",
       "\n",
       "   hypertension  diabetes  alcoholism  handicap  sms_received  no_show  \n",
       "0          True     False       False     False         False    False  \n",
       "1         False     False       False     False         False    False  \n",
       "2         False     False       False     False         False    False  \n",
       "3         False     False       False     False         False    False  \n",
       "4          True      True       False     False         False    False  "
      ]
     },
     "execution_count": 9,
     "metadata": {},
     "output_type": "execute_result"
    }
   ],
   "source": [
    "#change to bool dtype\n",
    "df_no_show['no_show'] = df_no_show['no_show'].map({\"No\": 0, \"Yes\": 1}).astype(bool)\n",
    "for col in ['scholarship',\"hypertension\",\"diabetes\",\"alcoholism\",\"handicap\",\"sms_received\"]:\n",
    "    df_no_show[col] = df_no_show[col].astype(bool) \n",
    "df_no_show.head()"
   ]
  },
  {
   "cell_type": "code",
   "execution_count": 10,
   "metadata": {},
   "outputs": [
    {
     "data": {
      "text/plain": [
       "patient_id                       int64\n",
       "appointment_id                   int64\n",
       "gender                          object\n",
       "scheduled_day      datetime64[ns, UTC]\n",
       "appointment_day    datetime64[ns, UTC]\n",
       "age                              int64\n",
       "neighbourhood                   object\n",
       "scholarship                       bool\n",
       "hypertension                      bool\n",
       "diabetes                          bool\n",
       "alcoholism                        bool\n",
       "handicap                          bool\n",
       "sms_received                      bool\n",
       "no_show                           bool\n",
       "dtype: object"
      ]
     },
     "execution_count": 10,
     "metadata": {},
     "output_type": "execute_result"
    }
   ],
   "source": [
    "df_no_show.dtypes"
   ]
  },
  {
   "cell_type": "code",
   "execution_count": 11,
   "metadata": {},
   "outputs": [
    {
     "data": {
      "text/plain": [
       "patient_id         0\n",
       "appointment_id     0\n",
       "gender             0\n",
       "scheduled_day      0\n",
       "appointment_day    0\n",
       "age                0\n",
       "neighbourhood      0\n",
       "scholarship        0\n",
       "hypertension       0\n",
       "diabetes           0\n",
       "alcoholism         0\n",
       "handicap           0\n",
       "sms_received       0\n",
       "no_show            0\n",
       "dtype: int64"
      ]
     },
     "execution_count": 11,
     "metadata": {},
     "output_type": "execute_result"
    }
   ],
   "source": [
    "# view missing value count\n",
    "df_no_show.isnull().sum()"
   ]
  },
  {
   "cell_type": "code",
   "execution_count": 12,
   "metadata": {},
   "outputs": [
    {
     "data": {
      "text/plain": [
       "False"
      ]
     },
     "execution_count": 12,
     "metadata": {},
     "output_type": "execute_result"
    }
   ],
   "source": [
    "#check if any of the columns has null value\n",
    "df_no_show.isnull().sum().any()"
   ]
  },
  {
   "cell_type": "code",
   "execution_count": 13,
   "metadata": {},
   "outputs": [
    {
     "data": {
      "text/plain": [
       "0"
      ]
     },
     "execution_count": 13,
     "metadata": {},
     "output_type": "execute_result"
    }
   ],
   "source": [
    "#check for duplicate values\n",
    "df_no_show.duplicated().sum()"
   ]
  },
  {
   "cell_type": "markdown",
   "metadata": {},
   "source": [
    "####  3. Add age group column"
   ]
  },
  {
   "cell_type": "code",
   "execution_count": 14,
   "metadata": {},
   "outputs": [
    {
     "data": {
      "text/plain": [
       "array([ 62,  56,   8,  76,  23,  39,  21,  19,  30,  29,  22,  28,  54,\n",
       "        15,  50,  40,  46,   4,  13,  65,  45,  51,  32,  12,  61,  38,\n",
       "        79,  18,  63,  64,  85,  59,  55,  71,  49,  78,  31,  58,  27,\n",
       "         6,   2,  11,   7,   0,   3,   1,  69,  68,  60,  67,  36,  10,\n",
       "        35,  20,  26,  34,  33,  16,  42,   5,  47,  17,  41,  44,  37,\n",
       "        24,  66,  77,  81,  70,  53,  75,  73,  52,  74,  43,  89,  57,\n",
       "        14,   9,  48,  83,  72,  25,  80,  87,  88,  84,  82,  90,  94,\n",
       "        86,  91,  98,  92,  96,  93,  95,  97, 102, 115, 100,  99,  -1])"
      ]
     },
     "execution_count": 14,
     "metadata": {},
     "output_type": "execute_result"
    }
   ],
   "source": [
    "df_no_show['age'].unique()"
   ]
  },
  {
   "cell_type": "code",
   "execution_count": 15,
   "metadata": {},
   "outputs": [
    {
     "data": {
      "text/plain": [
       "count    110527.000000\n",
       "mean         37.088874\n",
       "std          23.110205\n",
       "min          -1.000000\n",
       "25%          18.000000\n",
       "50%          37.000000\n",
       "75%          55.000000\n",
       "max         115.000000\n",
       "Name: age, dtype: float64"
      ]
     },
     "execution_count": 15,
     "metadata": {},
     "output_type": "execute_result"
    }
   ],
   "source": [
    "df_no_show['age'].describe()"
   ]
  },
  {
   "cell_type": "code",
   "execution_count": 16,
   "metadata": {},
   "outputs": [
    {
     "data": {
      "text/plain": [
       "(46, 14)"
      ]
     },
     "execution_count": 16,
     "metadata": {},
     "output_type": "execute_result"
    }
   ],
   "source": [
    "# 46 records have age greater than 95\n",
    "df_no_show.loc[df_no_show.age>95].shape"
   ]
  },
  {
   "cell_type": "code",
   "execution_count": 17,
   "metadata": {},
   "outputs": [
    {
     "data": {
      "text/plain": [
       "(3540, 14)"
      ]
     },
     "execution_count": 17,
     "metadata": {},
     "output_type": "execute_result"
    }
   ],
   "source": [
    "# 3540 records have age less than or equal to 0 which is irelevant \n",
    "df_no_show.loc[df_no_show.age<= 0].shape"
   ]
  },
  {
   "cell_type": "code",
   "execution_count": 18,
   "metadata": {},
   "outputs": [
    {
     "data": {
      "text/plain": [
       " 0      3539\n",
       " 1      2273\n",
       " 52     1746\n",
       " 49     1652\n",
       " 53     1651\n",
       "        ... \n",
       " 115       5\n",
       " 100       4\n",
       " 102       2\n",
       " 99        1\n",
       "-1         1\n",
       "Name: age, Length: 104, dtype: int64"
      ]
     },
     "execution_count": 18,
     "metadata": {},
     "output_type": "execute_result"
    }
   ],
   "source": [
    "pd.value_counts(df_no_show['age'])"
   ]
  },
  {
   "cell_type": "code",
   "execution_count": 19,
   "metadata": {},
   "outputs": [],
   "source": [
    "df_no_show['age'].clip(0,95,inplace=True)"
   ]
  },
  {
   "cell_type": "code",
   "execution_count": 20,
   "metadata": {},
   "outputs": [
    {
     "data": {
      "text/plain": [
       "0     3540\n",
       "1     2273\n",
       "52    1746\n",
       "49    1652\n",
       "53    1651\n",
       "      ... \n",
       "92      86\n",
       "95      70\n",
       "91      66\n",
       "93      53\n",
       "94      33\n",
       "Name: age, Length: 96, dtype: int64"
      ]
     },
     "execution_count": 20,
     "metadata": {},
     "output_type": "execute_result"
    }
   ],
   "source": [
    "pd.value_counts(df_no_show['age'])"
   ]
  },
  {
   "cell_type": "code",
   "execution_count": 21,
   "metadata": {},
   "outputs": [],
   "source": [
    "# create bin edges that will be used to \"cut\" the data into groups\n",
    "bin_edges =[0,13, 18, 25, 35, 60, 96]"
   ]
  },
  {
   "cell_type": "code",
   "execution_count": 22,
   "metadata": {},
   "outputs": [
    {
     "data": {
      "text/plain": [
       "0     3540\n",
       "1     2273\n",
       "52    1746\n",
       "49    1652\n",
       "53    1651\n",
       "      ... \n",
       "92      86\n",
       "95      70\n",
       "91      66\n",
       "93      53\n",
       "94      33\n",
       "Name: age, Length: 96, dtype: int64"
      ]
     },
     "execution_count": 22,
     "metadata": {},
     "output_type": "execute_result"
    }
   ],
   "source": [
    "#print the number of values in different groups\n",
    "pd.value_counts(df_no_show['age'])"
   ]
  },
  {
   "cell_type": "code",
   "execution_count": 23,
   "metadata": {},
   "outputs": [],
   "source": [
    "# Labels for the four acidity level groups\n",
    "bin_names = [ '<=12','from 13 to 17' ,'from 18 to 24','from 25 to 34', 'from 35 to 59', '>=60']"
   ]
  },
  {
   "cell_type": "code",
   "execution_count": 24,
   "metadata": {},
   "outputs": [
    {
     "data": {
      "text/plain": [
       "from 35 to 59    37728\n",
       ">=60             21173\n",
       "<=12             21037\n",
       "from 25 to 34    14358\n",
       "from 18 to 24     9888\n",
       "from 13 to 17     6343\n",
       "Name: age_group, dtype: int64"
      ]
     },
     "execution_count": 24,
     "metadata": {},
     "output_type": "execute_result"
    }
   ],
   "source": [
    "# Creates age_group column\n",
    "df_no_show['age_group'] = pd.cut(df_no_show['age'], bin_edges,labels=bin_names,right=False)\n",
    "\n",
    "#print the number of values in different groups\n",
    "pd.value_counts(df_no_show['age_group'])\n"
   ]
  },
  {
   "cell_type": "code",
   "execution_count": 25,
   "metadata": {},
   "outputs": [
    {
     "data": {
      "text/html": [
       "<div>\n",
       "<style scoped>\n",
       "    .dataframe tbody tr th:only-of-type {\n",
       "        vertical-align: middle;\n",
       "    }\n",
       "\n",
       "    .dataframe tbody tr th {\n",
       "        vertical-align: top;\n",
       "    }\n",
       "\n",
       "    .dataframe thead th {\n",
       "        text-align: right;\n",
       "    }\n",
       "</style>\n",
       "<table border=\"1\" class=\"dataframe\">\n",
       "  <thead>\n",
       "    <tr style=\"text-align: right;\">\n",
       "      <th></th>\n",
       "      <th>patient_id</th>\n",
       "      <th>appointment_id</th>\n",
       "      <th>gender</th>\n",
       "      <th>scheduled_day</th>\n",
       "      <th>appointment_day</th>\n",
       "      <th>age</th>\n",
       "      <th>neighbourhood</th>\n",
       "      <th>scholarship</th>\n",
       "      <th>hypertension</th>\n",
       "      <th>diabetes</th>\n",
       "      <th>alcoholism</th>\n",
       "      <th>handicap</th>\n",
       "      <th>sms_received</th>\n",
       "      <th>no_show</th>\n",
       "      <th>age_group</th>\n",
       "    </tr>\n",
       "  </thead>\n",
       "  <tbody>\n",
       "    <tr>\n",
       "      <th>0</th>\n",
       "      <td>29872499824296</td>\n",
       "      <td>5642903</td>\n",
       "      <td>F</td>\n",
       "      <td>2016-04-29 18:38:08+00:00</td>\n",
       "      <td>2016-04-29 00:00:00+00:00</td>\n",
       "      <td>62</td>\n",
       "      <td>JARDIM DA PENHA</td>\n",
       "      <td>False</td>\n",
       "      <td>True</td>\n",
       "      <td>False</td>\n",
       "      <td>False</td>\n",
       "      <td>False</td>\n",
       "      <td>False</td>\n",
       "      <td>False</td>\n",
       "      <td>&gt;=60</td>\n",
       "    </tr>\n",
       "    <tr>\n",
       "      <th>1</th>\n",
       "      <td>558997776694438</td>\n",
       "      <td>5642503</td>\n",
       "      <td>M</td>\n",
       "      <td>2016-04-29 16:08:27+00:00</td>\n",
       "      <td>2016-04-29 00:00:00+00:00</td>\n",
       "      <td>56</td>\n",
       "      <td>JARDIM DA PENHA</td>\n",
       "      <td>False</td>\n",
       "      <td>False</td>\n",
       "      <td>False</td>\n",
       "      <td>False</td>\n",
       "      <td>False</td>\n",
       "      <td>False</td>\n",
       "      <td>False</td>\n",
       "      <td>from 35 to 59</td>\n",
       "    </tr>\n",
       "    <tr>\n",
       "      <th>2</th>\n",
       "      <td>4262962299951</td>\n",
       "      <td>5642549</td>\n",
       "      <td>F</td>\n",
       "      <td>2016-04-29 16:19:04+00:00</td>\n",
       "      <td>2016-04-29 00:00:00+00:00</td>\n",
       "      <td>62</td>\n",
       "      <td>MATA DA PRAIA</td>\n",
       "      <td>False</td>\n",
       "      <td>False</td>\n",
       "      <td>False</td>\n",
       "      <td>False</td>\n",
       "      <td>False</td>\n",
       "      <td>False</td>\n",
       "      <td>False</td>\n",
       "      <td>&gt;=60</td>\n",
       "    </tr>\n",
       "    <tr>\n",
       "      <th>3</th>\n",
       "      <td>867951213174</td>\n",
       "      <td>5642828</td>\n",
       "      <td>F</td>\n",
       "      <td>2016-04-29 17:29:31+00:00</td>\n",
       "      <td>2016-04-29 00:00:00+00:00</td>\n",
       "      <td>8</td>\n",
       "      <td>PONTAL DE CAMBURI</td>\n",
       "      <td>False</td>\n",
       "      <td>False</td>\n",
       "      <td>False</td>\n",
       "      <td>False</td>\n",
       "      <td>False</td>\n",
       "      <td>False</td>\n",
       "      <td>False</td>\n",
       "      <td>&lt;=12</td>\n",
       "    </tr>\n",
       "    <tr>\n",
       "      <th>4</th>\n",
       "      <td>8841186448183</td>\n",
       "      <td>5642494</td>\n",
       "      <td>F</td>\n",
       "      <td>2016-04-29 16:07:23+00:00</td>\n",
       "      <td>2016-04-29 00:00:00+00:00</td>\n",
       "      <td>56</td>\n",
       "      <td>JARDIM DA PENHA</td>\n",
       "      <td>False</td>\n",
       "      <td>True</td>\n",
       "      <td>True</td>\n",
       "      <td>False</td>\n",
       "      <td>False</td>\n",
       "      <td>False</td>\n",
       "      <td>False</td>\n",
       "      <td>from 35 to 59</td>\n",
       "    </tr>\n",
       "  </tbody>\n",
       "</table>\n",
       "</div>"
      ],
      "text/plain": [
       "        patient_id  appointment_id gender             scheduled_day  \\\n",
       "0   29872499824296         5642903      F 2016-04-29 18:38:08+00:00   \n",
       "1  558997776694438         5642503      M 2016-04-29 16:08:27+00:00   \n",
       "2    4262962299951         5642549      F 2016-04-29 16:19:04+00:00   \n",
       "3     867951213174         5642828      F 2016-04-29 17:29:31+00:00   \n",
       "4    8841186448183         5642494      F 2016-04-29 16:07:23+00:00   \n",
       "\n",
       "            appointment_day  age      neighbourhood  scholarship  \\\n",
       "0 2016-04-29 00:00:00+00:00   62    JARDIM DA PENHA        False   \n",
       "1 2016-04-29 00:00:00+00:00   56    JARDIM DA PENHA        False   \n",
       "2 2016-04-29 00:00:00+00:00   62      MATA DA PRAIA        False   \n",
       "3 2016-04-29 00:00:00+00:00    8  PONTAL DE CAMBURI        False   \n",
       "4 2016-04-29 00:00:00+00:00   56    JARDIM DA PENHA        False   \n",
       "\n",
       "   hypertension  diabetes  alcoholism  handicap  sms_received  no_show  \\\n",
       "0          True     False       False     False         False    False   \n",
       "1         False     False       False     False         False    False   \n",
       "2         False     False       False     False         False    False   \n",
       "3         False     False       False     False         False    False   \n",
       "4          True      True       False     False         False    False   \n",
       "\n",
       "       age_group  \n",
       "0           >=60  \n",
       "1  from 35 to 59  \n",
       "2           >=60  \n",
       "3           <=12  \n",
       "4  from 35 to 59  "
      ]
     },
     "execution_count": 25,
     "metadata": {},
     "output_type": "execute_result"
    }
   ],
   "source": [
    "# Checks for successful creation of this column\n",
    "df_no_show.head()"
   ]
  },
  {
   "cell_type": "code",
   "execution_count": 26,
   "metadata": {},
   "outputs": [
    {
     "data": {
      "text/plain": [
       "patient_id         0\n",
       "appointment_id     0\n",
       "gender             0\n",
       "scheduled_day      0\n",
       "appointment_day    0\n",
       "age                0\n",
       "neighbourhood      0\n",
       "scholarship        0\n",
       "hypertension       0\n",
       "diabetes           0\n",
       "alcoholism         0\n",
       "handicap           0\n",
       "sms_received       0\n",
       "no_show            0\n",
       "age_group          0\n",
       "dtype: int64"
      ]
     },
     "execution_count": 26,
     "metadata": {},
     "output_type": "execute_result"
    }
   ],
   "source": [
    "#drop the missing values in age_group column\n",
    "df_no_show['age_group'].dropna()\n",
    "df_no_show.isnull().sum()\n"
   ]
  },
  {
   "cell_type": "markdown",
   "metadata": {},
   "source": [
    "#### 4. Scheduled day and Appointment day \n",
    "Check whether the Appointment day is after the Scheduled day\n",
    "From the cells we can see that the Scheduled day has hours but for the Appointment day there are no hours"
   ]
  },
  {
   "cell_type": "code",
   "execution_count": 27,
   "metadata": {},
   "outputs": [
    {
     "data": {
      "text/plain": [
       "0   2016-04-29 18:38:08+00:00\n",
       "1   2016-04-29 16:08:27+00:00\n",
       "2   2016-04-29 16:19:04+00:00\n",
       "3   2016-04-29 17:29:31+00:00\n",
       "4   2016-04-29 16:07:23+00:00\n",
       "Name: scheduled_day, dtype: datetime64[ns, UTC]"
      ]
     },
     "execution_count": 27,
     "metadata": {},
     "output_type": "execute_result"
    }
   ],
   "source": [
    "df_no_show['scheduled_day'].head()"
   ]
  },
  {
   "cell_type": "code",
   "execution_count": 28,
   "metadata": {},
   "outputs": [
    {
     "data": {
      "text/plain": [
       "0   2016-04-29 00:00:00+00:00\n",
       "1   2016-04-29 00:00:00+00:00\n",
       "2   2016-04-29 00:00:00+00:00\n",
       "3   2016-04-29 00:00:00+00:00\n",
       "4   2016-04-29 00:00:00+00:00\n",
       "Name: appointment_day, dtype: datetime64[ns, UTC]"
      ]
     },
     "execution_count": 28,
     "metadata": {},
     "output_type": "execute_result"
    }
   ],
   "source": [
    "df_no_show['appointment_day'].head()"
   ]
  },
  {
   "cell_type": "code",
   "execution_count": 29,
   "metadata": {},
   "outputs": [
    {
     "data": {
      "text/plain": [
       "38568"
      ]
     },
     "execution_count": 29,
     "metadata": {},
     "output_type": "execute_result"
    }
   ],
   "source": [
    "# 38568 appointments were scheduled after the appointment datetime\n",
    "(df_no_show['scheduled_day'] > df_no_show['appointment_day']).sum()"
   ]
  },
  {
   "cell_type": "code",
   "execution_count": 30,
   "metadata": {},
   "outputs": [],
   "source": [
    "# shifting the appointment day with 1 day forward using the pandas Date ofset - Day\n",
    "df_no_show['appointment_day'] = df_no_show['appointment_day'] + 1*Day()"
   ]
  },
  {
   "cell_type": "code",
   "execution_count": 31,
   "metadata": {},
   "outputs": [
    {
     "data": {
      "text/plain": [
       "5"
      ]
     },
     "execution_count": 31,
     "metadata": {},
     "output_type": "execute_result"
    }
   ],
   "source": [
    "#after the changes there are still 5 rows where scheduled day is after the appointment day\n",
    "(df_no_show['scheduled_day'] > df_no_show['appointment_day']).sum()"
   ]
  },
  {
   "cell_type": "code",
   "execution_count": 32,
   "metadata": {},
   "outputs": [],
   "source": [
    "# Drop the last 5 records where the scheduled day is after the appointment\n",
    "df_no_show= df_no_show.loc[(df_no_show['scheduled_day'] <= df_no_show['appointment_day'])].copy()"
   ]
  },
  {
   "cell_type": "code",
   "execution_count": 33,
   "metadata": {},
   "outputs": [
    {
     "data": {
      "text/plain": [
       "0"
      ]
     },
     "execution_count": 33,
     "metadata": {},
     "output_type": "execute_result"
    }
   ],
   "source": [
    "#now there is no sheduled day after the appointment\n",
    "(df_no_show['scheduled_day'] > df_no_show['appointment_day']).sum()"
   ]
  },
  {
   "cell_type": "markdown",
   "metadata": {},
   "source": [
    "<a id='eda'></a>\n",
    "## Exploratory Data Analysis\n",
    "\n",
    "\n",
    "## Research Question 1 ( Which is the possibility for age groups not to show up for their medical appointment?)"
   ]
  },
  {
   "cell_type": "markdown",
   "metadata": {},
   "source": [
    "### 1. Grouping"
   ]
  },
  {
   "cell_type": "code",
   "execution_count": 34,
   "metadata": {},
   "outputs": [
    {
     "data": {
      "text/plain": [
       "no_show\n",
       "False    88208\n",
       "True     22314\n",
       "dtype: int64"
      ]
     },
     "execution_count": 34,
     "metadata": {},
     "output_type": "execute_result"
    }
   ],
   "source": [
    "# See how much people not showing for their appointment -> \n",
    "#-> significantly large number of people are showing for their appointment\n",
    "df_no_show.groupby(['no_show']).size()"
   ]
  },
  {
   "cell_type": "code",
   "execution_count": 35,
   "metadata": {},
   "outputs": [
    {
     "data": {
      "text/plain": [
       "gender\n",
       "F    71837\n",
       "M    38685\n",
       "dtype: int64"
      ]
     },
     "execution_count": 35,
     "metadata": {},
     "output_type": "execute_result"
    }
   ],
   "source": [
    "# records grouped by gender and no_show\n",
    "#-> records for Females are significantly more than for males\n",
    "df_no_show.groupby(['gender']).size()"
   ]
  },
  {
   "cell_type": "code",
   "execution_count": 36,
   "metadata": {},
   "outputs": [
    {
     "data": {
      "text/plain": [
       "age_group\n",
       "<=12             21036\n",
       "from 13 to 17     6343\n",
       "from 18 to 24     9886\n",
       "from 25 to 34    14358\n",
       "from 35 to 59    37727\n",
       ">=60             21172\n",
       "dtype: int64"
      ]
     },
     "execution_count": 36,
     "metadata": {},
     "output_type": "execute_result"
    }
   ],
   "source": [
    "#records grouped by age group\n",
    "# -> records for age group from 35 to 59 are the most\n",
    "df_no_show.groupby(['age_group']).size()"
   ]
  },
  {
   "cell_type": "code",
   "execution_count": 37,
   "metadata": {},
   "outputs": [
    {
     "data": {
      "text/plain": [
       "age_group      gender\n",
       "<=12           F         10023\n",
       "               M         11013\n",
       "from 13 to 17  F          3876\n",
       "               M          2467\n",
       "from 18 to 24  F          7263\n",
       "               M          2623\n",
       "from 25 to 34  F         10499\n",
       "               M          3859\n",
       "from 35 to 59  F         25890\n",
       "               M         11837\n",
       ">=60           F         14286\n",
       "               M          6886\n",
       "dtype: int64"
      ]
     },
     "execution_count": 37,
     "metadata": {},
     "output_type": "execute_result"
    }
   ],
   "source": [
    "#records grouped by age group and gender\n",
    "#-> using this grouping I found that the most records in the data sets are for Females from 35 to 59\n",
    "df_no_show.groupby(['age_group','gender']).size()"
   ]
  },
  {
   "cell_type": "code",
   "execution_count": 38,
   "metadata": {},
   "outputs": [
    {
     "data": {
      "text/plain": [
       "age_group      gender\n",
       "<=12           F         0.204530\n",
       "               M         0.204849\n",
       "from 13 to 17  F         0.261094\n",
       "               M         0.274828\n",
       "from 18 to 24  F         0.249621\n",
       "               M         0.249333\n",
       "from 25 to 34  F         0.234022\n",
       "               M         0.230111\n",
       "from 35 to 59  F         0.193897\n",
       "               M         0.189660\n",
       ">=60           F         0.156727\n",
       "               M         0.145513\n",
       "Name: no_show, dtype: float64"
      ]
     },
     "execution_count": 38,
     "metadata": {},
     "output_type": "execute_result"
    }
   ],
   "source": [
    "#show the mean value of people no showing for the appointment grouped by age group and gender\n",
    "df_no_show.groupby(['age_group','gender']).mean().no_show"
   ]
  },
  {
   "cell_type": "markdown",
   "metadata": {},
   "source": [
    "#### -  After showing different grouping I found that the records for women from age 35 to 59 significantly exceeds the records for other groups so I have decided to use the mean value of no_show variable  in order to compare the people from different groups"
   ]
  },
  {
   "cell_type": "markdown",
   "metadata": {},
   "source": [
    "###   2. Bar chart (Number of no shows across age groups) \n",
    "### *-> Getting older people are more willing to show for the appointment*"
   ]
  },
  {
   "cell_type": "code",
   "execution_count": 39,
   "metadata": {},
   "outputs": [
    {
     "data": {
      "text/plain": [
       "Text(0, 0.5, 'Rate of no shows')"
      ]
     },
     "execution_count": 39,
     "metadata": {},
     "output_type": "execute_result"
    },
    {
     "data": {
      "image/png": "[encoded data removed]",
      "text/plain": [
       "<Figure size 720x576 with 1 Axes>"
      ]
     },
     "metadata": {},
     "output_type": "display_data"
    }
   ],
   "source": [
    "# plot number of no shows across age groups using seaborn library\n",
    "sns.set(rc={'figure.figsize':(10,8)})\n",
    "sns.barplot(x=\"age_group\", y=\"no_show\", data=df_no_show,\n",
    "             color=\"b\").set_title('Number of no shows across age groups')\n",
    "plt.xlabel(\"age group\")\n",
    "plt.ylabel(\"Rate of no shows\")"
   ]
  },
  {
   "cell_type": "markdown",
   "metadata": {},
   "source": [
    "#### - The bar chart above shows that people tends to show more for their appointment when geting older and that the age group that missed the appointment the most are from age group 13 to 17. For this observation the mean value of no shows has been used."
   ]
  },
  {
   "cell_type": "markdown",
   "metadata": {},
   "source": [
    "### 3. Line chart (Number of no shows across age groups and gender)\n",
    "### *-> Teenagers has the highest rate of no showing for the appointment and there are not significat difference between genders*"
   ]
  },
  {
   "cell_type": "code",
   "execution_count": 40,
   "metadata": {},
   "outputs": [],
   "source": [
    "#Create a custom function to plot no show rate by age groups across other variables\n",
    "def custom_plot(x,y, ax=None, **plt_kwargs):\n",
    "    #if ax is None:\n",
    "    #    ax = plt.gca()\n",
    "   # ax.plot(x, y, **plt_kwargs) ## example plot here\n",
    "    ax.pivot_table(values=x, index=\"age_group\", columns=y, aggfunc=np.mean).plot(**plt_kwargs)\n",
    "    return(ax)"
   ]
  },
  {
   "cell_type": "code",
   "execution_count": 41,
   "metadata": {},
   "outputs": [
    {
     "data": {
      "image/png": "[encoded data removed]",
      "text/plain": [
       "<Figure size 720x576 with 1 Axes>"
      ]
     },
     "metadata": {},
     "output_type": "display_data"
    }
   ],
   "source": [
    "#expressing no show rate by age groups across gender\n",
    "ax_gender = custom_plot('no_show','gender', ax=df_no_show,kind='line',color=['r', 'b'],xlabel='age group',\n",
    "                     ylabel=\"Rate of no shows\",title=\"Number of no shows across age groups and gender\",\n",
    "                       figsize=(10,8))\n",
    "\n"
   ]
  },
  {
   "cell_type": "markdown",
   "metadata": {},
   "source": [
    "#### - We can see that gender does not influence the rate of no shows by much. However the rate of no shows does depend on age- the peak is  for ages between 13 an 17 and drops as the age increases."
   ]
  },
  {
   "cell_type": "markdown",
   "metadata": {},
   "source": [
    "## Research Question 2  (Do people who participate in the Bolsa Família programe are more willing to show up for the appointment?)"
   ]
  },
  {
   "cell_type": "markdown",
   "metadata": {},
   "source": [
    "### 1. Bar Chart ( Number of no shows across scholarships)\n",
    "### *-> People who participate in sholarship program are more willing not to show for their appointment*"
   ]
  },
  {
   "cell_type": "code",
   "execution_count": 42,
   "metadata": {},
   "outputs": [
    {
     "data": {
      "text/plain": [
       "scholarship\n",
       "False    0.198031\n",
       "True     0.237363\n",
       "Name: no_show, dtype: float64"
      ]
     },
     "execution_count": 42,
     "metadata": {},
     "output_type": "execute_result"
    }
   ],
   "source": [
    "#grouped by sholarship and find the mean value of no_show variable \n",
    "df_no_show.groupby([\"scholarship\"])[\"no_show\"].mean()"
   ]
  },
  {
   "cell_type": "code",
   "execution_count": 43,
   "metadata": {},
   "outputs": [
    {
     "data": {
      "text/plain": [
       "Text(0, 0.5, 'Rate of no shows')"
      ]
     },
     "execution_count": 43,
     "metadata": {},
     "output_type": "execute_result"
    },
    {
     "data": {
      "image/png": "[encoded data removed]",
      "text/plain": [
       "<Figure size 720x576 with 1 Axes>"
      ]
     },
     "metadata": {},
     "output_type": "display_data"
    }
   ],
   "source": [
    "#vizualizing the findigs using a bar chart and a seaborn library\n",
    "sns.set_color_codes(\"pastel\")\n",
    "sns.set(rc={'figure.figsize':(10,8)})\n",
    "sns.barplot(x=\"scholarship\", y=\"no_show\", data=df_no_show,\n",
    "            color=\"b\").set_title('Number of no shows across scholarship')\n",
    "plt.xlabel(\"scholarship\")\n",
    "plt.ylabel(\"Rate of no shows\")"
   ]
  },
  {
   "cell_type": "markdown",
   "metadata": {},
   "source": [
    " #### *- the mean value for people who missed their appointments and participate in sholarship programme is larger than for these who didn't participate in the programme*"
   ]
  },
  {
   "cell_type": "markdown",
   "metadata": {},
   "source": [
    "### 2. Bar Chart ( Number of no shows across age groups and scholarships)"
   ]
  },
  {
   "cell_type": "code",
   "execution_count": 44,
   "metadata": {},
   "outputs": [
    {
     "data": {
      "text/plain": [
       "age_group      scholarship\n",
       "<=12           False          0.202691\n",
       "               True           0.222915\n",
       "from 13 to 17  False          0.263276\n",
       "               True           0.283811\n",
       "from 18 to 24  False          0.246428\n",
       "               True           0.275281\n",
       "from 25 to 34  False          0.229441\n",
       "               True           0.253854\n",
       "from 35 to 59  False          0.188451\n",
       "               True           0.226680\n",
       ">=60           False          0.152915\n",
       "               True           0.158784\n",
       "Name: no_show, dtype: float64"
      ]
     },
     "execution_count": 44,
     "metadata": {},
     "output_type": "execute_result"
    }
   ],
   "source": [
    "#show the mean value of people no showing for the appointment grouped by age group and scholarship\n",
    "df_no_show.groupby(['age_group','scholarship']).mean().no_show"
   ]
  },
  {
   "cell_type": "code",
   "execution_count": 45,
   "metadata": {},
   "outputs": [
    {
     "data": {
      "image/png": "[encoded data removed]",
      "text/plain": [
       "<Figure size 720x576 with 1 Axes>"
      ]
     },
     "metadata": {},
     "output_type": "display_data"
    }
   ],
   "source": [
    "#expressing no show rate by age groups across scholarship\n",
    "ax_scholarship = custom_plot('no_show','scholarship', ax=df_no_show,kind='bar',color=['r', 'g'],\n",
    "                             xlabel='age group',\n",
    "                     ylabel=\"Rate of no shows\",title=\"Rate of no shows across age groups and scholarship\")"
   ]
  },
  {
   "cell_type": "markdown",
   "metadata": {},
   "source": [
    "#### -The chart shows that for people with scholarship the rate of missed appointments is slightly higher than for those without so scholarship represents an important variable. Here we can also see that rate also drops with age increase  for both groups of people(with and without scholarship)."
   ]
  },
  {
   "cell_type": "markdown",
   "metadata": {},
   "source": [
    "### Research Question 3 (Are people with preexisting medical conditions are more willing to missed their appointment?)"
   ]
  },
  {
   "cell_type": "markdown",
   "metadata": {},
   "source": [
    "### 1. Grouping by preexisting conditions"
   ]
  },
  {
   "cell_type": "code",
   "execution_count": 46,
   "metadata": {},
   "outputs": [
    {
     "data": {
      "text/plain": [
       "diabetes\n",
       "False    0.203589\n",
       "True     0.180033\n",
       "Name: no_show, dtype: float64"
      ]
     },
     "execution_count": 46,
     "metadata": {},
     "output_type": "execute_result"
    }
   ],
   "source": [
    "#People with diabetes have lower rate of no shown \n",
    "df_no_show.groupby([\"diabetes\"])[\"no_show\"].mean()"
   ]
  },
  {
   "cell_type": "code",
   "execution_count": 47,
   "metadata": {},
   "outputs": [
    {
     "data": {
      "text/plain": [
       "hypertension\n",
       "False    0.208992\n",
       "True     0.173020\n",
       "Name: no_show, dtype: float64"
      ]
     },
     "execution_count": 47,
     "metadata": {},
     "output_type": "execute_result"
    }
   ],
   "source": [
    "#People with hypertension have lower rate of no shown \n",
    "df_no_show.groupby([\"hypertension\"])[\"no_show\"].mean()"
   ]
  },
  {
   "cell_type": "code",
   "execution_count": 48,
   "metadata": {},
   "outputs": [
    {
     "data": {
      "text/plain": [
       "alcoholism\n",
       "False    0.201909\n",
       "True     0.201488\n",
       "Name: no_show, dtype: float64"
      ]
     },
     "execution_count": 48,
     "metadata": {},
     "output_type": "execute_result"
    }
   ],
   "source": [
    "#People with alcoholism have almost equal rate of no shown as these who are not alcoholics\n",
    "df_no_show.groupby([\"alcoholism\"])[\"no_show\"].mean()"
   ]
  },
  {
   "cell_type": "code",
   "execution_count": 49,
   "metadata": {},
   "outputs": [
    {
     "data": {
      "text/plain": [
       "diabetes  alcoholism  alcoholism\n",
       "False     False       False         0.203574\n",
       "          True        True          0.204095\n",
       "True      False       False         0.180134\n",
       "          True        True          0.177711\n",
       "Name: no_show, dtype: float64"
      ]
     },
     "execution_count": 49,
     "metadata": {},
     "output_type": "execute_result"
    }
   ],
   "source": [
    "#People not suffering from any disease tend to miss their appointments more\n",
    "df_no_show.groupby([\"diabetes\",\"alcoholism\",\"alcoholism\"])[\"no_show\"].mean()"
   ]
  },
  {
   "cell_type": "markdown",
   "metadata": {},
   "source": [
    "### 2.  How no showing rate are related to different preexisting condition grouped by age\n",
    "People from age group (18 to 24) suffering diabetes and hypertension have the higher rate of no shows for the appointment"
   ]
  },
  {
   "cell_type": "code",
   "execution_count": 50,
   "metadata": {},
   "outputs": [
    {
     "data": {
      "image/png": "[encoded data removed]",
      "text/plain": [
       "<Figure size 1080x1080 with 1 Axes>"
      ]
     },
     "metadata": {},
     "output_type": "display_data"
    }
   ],
   "source": [
    "#expressing no show rate by age groups across different preexisting diseases- diabetes, hypertension,alcoholism\n",
    "ax_disease = custom_plot('no_show',[\"diabetes\",\"hypertension\",\"alcoholism\"], ax=df_no_show,kind='line',\n",
    "                         color=['g', 'r','y','b','k','gray','orange','purple'],xlabel='age group',\n",
    "                     ylabel=\"Rate of no shows\",\n",
    "                         title=\"Rate of no shows across age groups and preexisting medical conditions\",\n",
    "                         figsize=(15,15))"
   ]
  },
  {
   "cell_type": "markdown",
   "metadata": {},
   "source": [
    "#### *- This chart shows different line chart for any combination of preexisting conditions-diabetes,hypertension and alcoholism. The orange line that represents people with diabetes and hypertention  shows that people from 18 to 24  with these diseases are missing their apointments the most. After the peak it drops to significantly lower rate."
   ]
  },
  {
   "cell_type": "markdown",
   "metadata": {},
   "source": [
    "### Limitations\n",
    "Despite the fact that there were no null values in the data set there were a bunch of iconsistent data. In the age column some of the rows were equal to -1 which is irrelevant - you can not be on negative age so I was forced to drop all the rows where the age was -1. Also there was a misconsistence between the appointment and scheduled day so I had to shift the appointment day with one day foreward. After a plenty of data cleaning I came up with a more appropriate data set in which I could made some conclusions about my findings.\n"
   ]
  },
  {
   "cell_type": "markdown",
   "metadata": {},
   "source": [
    "<a id='conclusions'></a>\n",
    "## Conclusions\n",
    "\n",
    "After the analysis that I have done I came up with several findings:\n",
    "1. With age people tend to attend more their appointments and people from age group 13-17 are missing their appointments the most.\n",
    "2. Gender doesn't affect people's decision about showing for the appointment or not.\n",
    "3. People who participate in the schoolarship programme are more willing to miss their appointments.\n",
    "4. People who suffer from any disease are more willing to show for their apointment.\n",
    "5. When I explored the no show rate by age I found that people from age group(18 to 24) who have diabetes and hypertension have the highest rate of no shows.\n"
   ]
  }
 ],
 "metadata": {
  "kernelspec": {
   "display_name": "Python 3",
   "language": "python",
   "name": "python3"
  },
  "language_info": {
   "codemirror_mode": {
    "name": "ipython",
    "version": 3
   },
   "file_extension": ".py",
   "mimetype": "text/x-python",
   "name": "python",
   "nbconvert_exporter": "python",
   "pygments_lexer": "ipython3",
   "version": "3.8.5"
  }
 },
 "nbformat": 4,
 "nbformat_minor": 2
}
